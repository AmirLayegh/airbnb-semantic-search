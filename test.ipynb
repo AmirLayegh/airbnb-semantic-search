{
 "cells": [
  {
   "cell_type": "code",
   "execution_count": 6,
   "metadata": {},
   "outputs": [
    {
     "name": "stdout",
     "output_type": "stream",
     "text": [
      "Path to dataset files: /Users/amlk/.cache/kagglehub/datasets/henriquejborges/house-prices-in-sweden/versions/9\n"
     ]
    }
   ],
   "source": [
    "from datetime import datetime, timedelta\n",
    "import os\n",
    "\n",
    "import altair as alt\n",
    "import pandas as pd\n",
    "from torch import float16\n",
    "from transformers import AutoTokenizer, pipeline\n",
    "from superlinked import framework as sl\n",
    "\n",
    "alt.renderers.enable(sl.get_altair_renderer())\n",
    "alt.data_transformers.disable_max_rows()\n",
    "pd.set_option(\"display.max_colwidth\", 1000)\n",
    "START_OF_2024_TS = int(datetime(2024, 1, 2).timestamp())\n",
    "EXECUTOR_DATA = {sl.CONTEXT_COMMON: {sl.CONTEXT_COMMON_NOW: START_OF_2024_TS}}\n",
    "TOP_N = 8\n"
   ]
  },
  {
   "cell_type": "code",
   "execution_count": 13,
   "metadata": {},
   "outputs": [
    {
     "data": {
      "text/plain": [
       "11549"
      ]
     },
     "execution_count": 13,
     "metadata": {},
     "output_type": "execute_result"
    }
   ],
   "source": [
    "import pandas as pd\n",
    "\n",
    "airbnb_data = pd.read_csv('/home/jovyan/MLOps/listings.csv')\n",
    "# Update the price column to handle both string and float types\n",
    "airbnb_data['price'] = airbnb_data['price'].apply(lambda x: float(x[1:].replace(',', '')) if isinstance(x, str) else x)\n",
    "airbnb_data['host_is_superhost']=airbnb_data['host_is_superhost'].apply(lambda x: 1 if x == 't' else 0)\n",
    "airbnb_data['last_scraped'] = pd.to_datetime(airbnb_data['last_scraped'])\n",
    "airbnb_data['review_scores_rating'].fillna(0, inplace=True)\n",
    "                          "
   ]
  },
  {
   "cell_type": "code",
   "execution_count": 8,
   "metadata": {},
   "outputs": [
    {
     "data": {
      "text/plain": [
       "Index(['id', 'listing_url', 'scrape_id', 'last_scraped', 'source', 'name',\n",
       "       'description', 'neighborhood_overview', 'picture_url', 'host_id',\n",
       "       'host_url', 'host_name', 'host_since', 'host_location', 'host_about',\n",
       "       'host_response_time', 'host_response_rate', 'host_acceptance_rate',\n",
       "       'host_is_superhost', 'host_thumbnail_url', 'host_picture_url',\n",
       "       'host_neighbourhood', 'host_listings_count',\n",
       "       'host_total_listings_count', 'host_verifications',\n",
       "       'host_has_profile_pic', 'host_identity_verified', 'neighbourhood',\n",
       "       'neighbourhood_cleansed', 'neighbourhood_group_cleansed', 'latitude',\n",
       "       'longitude', 'property_type', 'room_type', 'accommodates', 'bathrooms',\n",
       "       'bathrooms_text', 'bedrooms', 'beds', 'amenities', 'price',\n",
       "       'minimum_nights', 'maximum_nights', 'minimum_minimum_nights',\n",
       "       'maximum_minimum_nights', 'minimum_maximum_nights',\n",
       "       'maximum_maximum_nights', 'minimum_nights_avg_ntm',\n",
       "       'maximum_nights_avg_ntm', 'calendar_updated', 'has_availability',\n",
       "       'availability_30', 'availability_60', 'availability_90',\n",
       "       'availability_365', 'calendar_last_scraped', 'number_of_reviews',\n",
       "       'number_of_reviews_ltm', 'number_of_reviews_l30d', 'first_review',\n",
       "       'last_review', 'review_scores_rating', 'review_scores_accuracy',\n",
       "       'review_scores_cleanliness', 'review_scores_checkin',\n",
       "       'review_scores_communication', 'review_scores_location',\n",
       "       'review_scores_value', 'license', 'instant_bookable',\n",
       "       'calculated_host_listings_count',\n",
       "       'calculated_host_listings_count_entire_homes',\n",
       "       'calculated_host_listings_count_private_rooms',\n",
       "       'calculated_host_listings_count_shared_rooms', 'reviews_per_month'],\n",
       "      dtype='object')"
      ]
     },
     "execution_count": 8,
     "metadata": {},
     "output_type": "execute_result"
    }
   ],
   "source": [
    "airbnb_data.columns"
   ]
  },
  {
   "cell_type": "code",
   "execution_count": 12,
   "metadata": {},
   "outputs": [],
   "source": [
    "class DataSchema(sl.Schema):\n",
    "    id: sl.IdField\n",
    "    date: sl.Timestamp\n",
    "    name: sl.String\n",
    "    description: sl.String\n",
    "    review_scores_communication: sl.Float\n",
    "    review_scores_location: sl.Float\n",
    "    review_scores_cleanliness: sl.Float\n",
    "    bedrooms: sl.Float\n",
    "    beds: sl.Float\n",
    "    bathrooms: sl.Float\n",
    "    bathrooms_text: sl.String\n",
    "    #room_text: sl.String\n",
    "    review_scores_rating: sl.Float\n",
    "    host_is_superhost: sl.Integer\n",
    "    price: sl.Float\n",
    "    amenities: sl.StringList\n",
    "    number_of_reviews: sl.Integer"
   ]
  },
  {
   "cell_type": "code",
   "execution_count": null,
   "metadata": {},
   "outputs": [],
   "source": [
    "airbnb = DataSchema()"
   ]
  },
  {
   "cell_type": "code",
   "execution_count": 38,
   "metadata": {},
   "outputs": [],
   "source": [
    "%%capture\n",
    "relevance_space = sl.TextSimilaritySpace(\n",
    "    text=sl.chunk(airbnb.description, chunk_size=100, chunk_overlap=20),\n",
    "    model=\"sentence-transformers/all-mpnet-base-v2\",\n",
    ")\n",
    "recency_space=sl.RecencySpace(\n",
    "    timestamp=airbnb.date, \n",
    "    period_time_list=[sl.PeriodTime(timedelta(days=300))],\n",
    ")\n",
    "\n",
    "review_space = sl.NumberSpace(\n",
    "    number=airbnb.review_scores_rating, min_value=0.0, max_value=5.0, mode=sl.Mode.MAXIMUM\n",
    ")\n"
   ]
  },
  {
   "cell_type": "code",
   "execution_count": null,
   "metadata": {},
   "outputs": [],
   "source": [
    "airbnb_index = sl.Index([relevance_space, recency_space, review_space])\n",
    "airbnb_parser = sl.DataFrameParser(airbnb,mapping={airbnb.id:\"id\", airbnb.date: \"last_scraped\", })\n",
    "source: sl.InMemorySource = sl.InMemorySource(airbnb, parser=airbnb_parser)\n",
    "executor = sl.InMemoryExecutor(sources=[source], indices=[airbnb_index], context_data=EXECUTOR_DATA)\n",
    "app = executor.run()\n",
    "source.put([airbnb_data])"
   ]
  },
  {
   "cell_type": "code",
   "execution_count": null,
   "metadata": {},
   "outputs": [],
   "source": [
    "knowledgebase_query = (\n",
    "    sl.Query(\n",
    "        airbnb_index,\n",
    "        weights = {\n",
    "            relevance_space: sl.Param(\"relevance_weight\"),\n",
    "            recency_space: sl.Param(\"recency_weight\"),\n",
    "            review_space: sl.Param(\"review_weight\")\n",
    "        },\n",
    "    )\n",
    "    .find(airbnb)\n",
    "    .similar(relevance_space, sl.Param(\"search_query\"))\n",
    "    .select_all()\n",
    "    .limit(sl.Param(\"limit\"))\n",
    ")"
   ]
  },
  {
   "cell_type": "code",
   "execution_count": null,
   "metadata": {},
   "outputs": [],
   "source": [
    "query_text: str = \"Where is the apartment in Stockholm in old town?\""
   ]
  },
  {
   "cell_type": "code",
   "execution_count": null,
   "metadata": {},
   "outputs": [],
   "source": [
    "only_relevance_result = app.query(\n",
    "    knowledgebase_query,\n",
    "    relevance_weight=1,\n",
    "    recency_weight=0,\n",
    "    review_weight=0,\n",
    "    search_query=query_text,\n",
    "    limit=TOP_N,\n",
    ")\n",
    "\n",
    "df = sl.PandasConverter.to_pandas(only_relevance_result)\n",
    "#sl.PandasConverter.format_date_column(df, \"date\", \"last_fetched\")"
   ]
  }
 ],
 "metadata": {
  "kernelspec": {
   "display_name": "cs224n_a3",
   "language": "python",
   "name": "python3"
  },
  "language_info": {
   "codemirror_mode": {
    "name": "ipython",
    "version": 3
   },
   "file_extension": ".py",
   "mimetype": "text/x-python",
   "name": "python",
   "nbconvert_exporter": "python",
   "pygments_lexer": "ipython3",
   "version": "3.10.13"
  }
 },
 "nbformat": 4,
 "nbformat_minor": 2
}
